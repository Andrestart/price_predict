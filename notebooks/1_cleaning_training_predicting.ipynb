{
 "cells": [
  {
   "cell_type": "code",
   "execution_count": 120,
   "id": "1e6e7245",
   "metadata": {},
   "outputs": [],
   "source": [
    "import pandas as pd\n",
    "import os\n",
    "import sys\n",
    "sys.path.append(\"../\")\n",
    "\n",
    "import seaborn as sns\n",
    "sns.set_context('poster')\n",
    "sns.set(rc={'figure.figsize': (16., 9.)})\n",
    "sns.set_style('whitegrid')\n",
    "\n",
    "from matplotlib import pyplot as plt\n",
    "%matplotlib inline\n",
    "%config Inlinebackend.figure_format = 'retina'\n",
    "\n",
    "from sklearn import preprocessing\n",
    "label = preprocessing.LabelEncoder()\n",
    "\n",
    "from sklearn.ensemble import RandomForestRegressor\n",
    "from sklearn.linear_model import LogisticRegression\n",
    "from sklearn.model_selection import cross_val_score as cvs\n",
    "from sklearn.tree import DecisionTreeRegressor\n",
    "from sklearn.ensemble import ExtraTreesRegressor\n",
    "from sklearn import metrics\n",
    "from sklearn.model_selection import train_test_split as tts\n",
    "import numpy as np"
   ]
  },
  {
   "cell_type": "markdown",
   "id": "4e495f33",
   "metadata": {},
   "source": [
    "# Loading the data to train and test the chosen models"
   ]
  },
  {
   "cell_type": "code",
   "execution_count": 121,
   "id": "2cc5d37f",
   "metadata": {},
   "outputs": [],
   "source": [
    "test = pd.read_csv(\"../data/test.csv\")\n",
    "train = pd.read_csv(\"../data/train.csv\")"
   ]
  },
  {
   "cell_type": "markdown",
   "id": "bc874188",
   "metadata": {},
   "source": [
    "# Transforming clarity, color and cut columns from strings to identifying numbers"
   ]
  },
  {
   "cell_type": "code",
   "execution_count": 122,
   "id": "1b83284d",
   "metadata": {},
   "outputs": [],
   "source": [
    "train['clarity'] =  label.fit_transform(train[\"clarity\"])\n",
    "train['color'] =  label.fit_transform(train[\"color\"])\n",
    "train['cut'] =  label.fit_transform(train[\"cut\"])\n",
    "\n",
    "test['clarity'] =  label.fit_transform(test[\"clarity\"])\n",
    "test['color'] =  label.fit_transform(test[\"color\"])\n",
    "test['cut'] =  label.fit_transform(test[\"cut\"])"
   ]
  },
  {
   "cell_type": "markdown",
   "id": "ba9dafd8",
   "metadata": {},
   "source": [
    "# The variables x, y and z are highly correlated with 'carat' so I decided to drop them in order to train the model"
   ]
  },
  {
   "cell_type": "code",
   "execution_count": 123,
   "id": "32effda4",
   "metadata": {},
   "outputs": [
    {
     "data": {
      "text/html": [
       "<div>\n",
       "<style scoped>\n",
       "    .dataframe tbody tr th:only-of-type {\n",
       "        vertical-align: middle;\n",
       "    }\n",
       "\n",
       "    .dataframe tbody tr th {\n",
       "        vertical-align: top;\n",
       "    }\n",
       "\n",
       "    .dataframe thead th {\n",
       "        text-align: right;\n",
       "    }\n",
       "</style>\n",
       "<table border=\"1\" class=\"dataframe\">\n",
       "  <thead>\n",
       "    <tr style=\"text-align: right;\">\n",
       "      <th></th>\n",
       "      <th>carat</th>\n",
       "      <th>cut</th>\n",
       "      <th>color</th>\n",
       "      <th>clarity</th>\n",
       "      <th>depth</th>\n",
       "      <th>table</th>\n",
       "    </tr>\n",
       "  </thead>\n",
       "  <tbody>\n",
       "    <tr>\n",
       "      <th>0</th>\n",
       "      <td>1.14</td>\n",
       "      <td>2</td>\n",
       "      <td>3</td>\n",
       "      <td>7</td>\n",
       "      <td>61.0</td>\n",
       "      <td>56.0</td>\n",
       "    </tr>\n",
       "    <tr>\n",
       "      <th>1</th>\n",
       "      <td>0.76</td>\n",
       "      <td>2</td>\n",
       "      <td>4</td>\n",
       "      <td>5</td>\n",
       "      <td>62.7</td>\n",
       "      <td>57.0</td>\n",
       "    </tr>\n",
       "    <tr>\n",
       "      <th>2</th>\n",
       "      <td>0.84</td>\n",
       "      <td>2</td>\n",
       "      <td>3</td>\n",
       "      <td>4</td>\n",
       "      <td>61.4</td>\n",
       "      <td>56.0</td>\n",
       "    </tr>\n",
       "    <tr>\n",
       "      <th>3</th>\n",
       "      <td>1.55</td>\n",
       "      <td>2</td>\n",
       "      <td>4</td>\n",
       "      <td>4</td>\n",
       "      <td>62.0</td>\n",
       "      <td>57.0</td>\n",
       "    </tr>\n",
       "    <tr>\n",
       "      <th>4</th>\n",
       "      <td>0.30</td>\n",
       "      <td>2</td>\n",
       "      <td>3</td>\n",
       "      <td>3</td>\n",
       "      <td>61.9</td>\n",
       "      <td>57.0</td>\n",
       "    </tr>\n",
       "    <tr>\n",
       "      <th>...</th>\n",
       "      <td>...</td>\n",
       "      <td>...</td>\n",
       "      <td>...</td>\n",
       "      <td>...</td>\n",
       "      <td>...</td>\n",
       "      <td>...</td>\n",
       "    </tr>\n",
       "    <tr>\n",
       "      <th>40450</th>\n",
       "      <td>0.40</td>\n",
       "      <td>2</td>\n",
       "      <td>1</td>\n",
       "      <td>6</td>\n",
       "      <td>60.8</td>\n",
       "      <td>57.0</td>\n",
       "    </tr>\n",
       "    <tr>\n",
       "      <th>40451</th>\n",
       "      <td>0.52</td>\n",
       "      <td>2</td>\n",
       "      <td>6</td>\n",
       "      <td>3</td>\n",
       "      <td>61.6</td>\n",
       "      <td>55.0</td>\n",
       "    </tr>\n",
       "    <tr>\n",
       "      <th>40452</th>\n",
       "      <td>1.00</td>\n",
       "      <td>4</td>\n",
       "      <td>1</td>\n",
       "      <td>2</td>\n",
       "      <td>59.4</td>\n",
       "      <td>63.0</td>\n",
       "    </tr>\n",
       "    <tr>\n",
       "      <th>40453</th>\n",
       "      <td>0.57</td>\n",
       "      <td>4</td>\n",
       "      <td>1</td>\n",
       "      <td>4</td>\n",
       "      <td>62.9</td>\n",
       "      <td>56.0</td>\n",
       "    </tr>\n",
       "    <tr>\n",
       "      <th>40454</th>\n",
       "      <td>2.09</td>\n",
       "      <td>1</td>\n",
       "      <td>6</td>\n",
       "      <td>5</td>\n",
       "      <td>57.2</td>\n",
       "      <td>64.0</td>\n",
       "    </tr>\n",
       "  </tbody>\n",
       "</table>\n",
       "<p>40455 rows × 6 columns</p>\n",
       "</div>"
      ],
      "text/plain": [
       "       carat  cut  color  clarity  depth  table\n",
       "0       1.14    2      3        7   61.0   56.0\n",
       "1       0.76    2      4        5   62.7   57.0\n",
       "2       0.84    2      3        4   61.4   56.0\n",
       "3       1.55    2      4        4   62.0   57.0\n",
       "4       0.30    2      3        3   61.9   57.0\n",
       "...      ...  ...    ...      ...    ...    ...\n",
       "40450   0.40    2      1        6   60.8   57.0\n",
       "40451   0.52    2      6        3   61.6   55.0\n",
       "40452   1.00    4      1        2   59.4   63.0\n",
       "40453   0.57    4      1        4   62.9   56.0\n",
       "40454   2.09    1      6        5   57.2   64.0\n",
       "\n",
       "[40455 rows x 6 columns]"
      ]
     },
     "execution_count": 123,
     "metadata": {},
     "output_type": "execute_result"
    }
   ],
   "source": [
    "train_noidxyz = train[['carat','cut','color','clarity','depth','table']]\n",
    "train_noidxyz"
   ]
  },
  {
   "cell_type": "markdown",
   "id": "79830b23",
   "metadata": {},
   "source": [
    "# Splitting the training dataset to train and testthe model"
   ]
  },
  {
   "cell_type": "code",
   "execution_count": 124,
   "id": "4986bc74",
   "metadata": {},
   "outputs": [],
   "source": [
    "from sklearn.model_selection import train_test_split\n",
    "X_train, X_test, y_train, y_test  = train_test_split(train_noidxyz ,train.price, test_size=0.2)"
   ]
  },
  {
   "cell_type": "markdown",
   "id": "808354e2",
   "metadata": {},
   "source": [
    "# Choosing a model and getting its Root Mean Squared Error"
   ]
  },
  {
   "cell_type": "code",
   "execution_count": 134,
   "id": "7b7ffd85",
   "metadata": {},
   "outputs": [
    {
     "name": "stdout",
     "output_type": "stream",
     "text": [
      "RMSE of 42 547.3841616345304\n",
      "RMSE of 45 546.547350522786\n",
      "RMSE of 48 546.6263577375381\n"
     ]
    }
   ],
   "source": [
    "n = [42,45,48] # I used this list to try different variables and check their RMSE\n",
    "for i in n:\n",
    "    model= RandomForestRegressor(max_depth= i, min_samples_split= 10, n_estimators= 390)\n",
    "    model=model.fit(X_train,y_train)\n",
    "    y_pred = model.predict(X_test)\n",
    "    print(f\"RMSE of {i} {np.sqrt(metrics.mean_squared_error(y_test, y_pred))}\")"
   ]
  },
  {
   "cell_type": "markdown",
   "id": "0941f0ea",
   "metadata": {},
   "source": [
    "# Once the model is trained and tested with a part of the dataset 'train', if the RMSE is good enough I proceed to train it using the whole dataset and choosing the test dataset to get X_test"
   ]
  },
  {
   "cell_type": "code",
   "execution_count": 1,
   "id": "354947d7",
   "metadata": {},
   "outputs": [
    {
     "ename": "NameError",
     "evalue": "name 'train' is not defined",
     "output_type": "error",
     "traceback": [
      "\u001b[0;31m---------------------------------------------------------------------------\u001b[0m",
      "\u001b[0;31mNameError\u001b[0m                                 Traceback (most recent call last)",
      "\u001b[0;32m/tmp/ipykernel_89/3169599856.py\u001b[0m in \u001b[0;36m<module>\u001b[0;34m\u001b[0m\n\u001b[0;32m----> 1\u001b[0;31m \u001b[0my_train\u001b[0m\u001b[0;34m=\u001b[0m \u001b[0mtrain\u001b[0m\u001b[0;34m.\u001b[0m\u001b[0mprice\u001b[0m\u001b[0;34m\u001b[0m\u001b[0;34m\u001b[0m\u001b[0m\n\u001b[0m\u001b[1;32m      2\u001b[0m \u001b[0mX_train\u001b[0m\u001b[0;34m=\u001b[0m\u001b[0mtrain_noidxyz\u001b[0m\u001b[0;34m\u001b[0m\u001b[0;34m\u001b[0m\u001b[0m\n\u001b[1;32m      3\u001b[0m \u001b[0mX_test\u001b[0m\u001b[0;34m=\u001b[0m\u001b[0mtest\u001b[0m\u001b[0;34m[\u001b[0m\u001b[0;34m[\u001b[0m\u001b[0;34m'carat'\u001b[0m\u001b[0;34m,\u001b[0m\u001b[0;34m'cut'\u001b[0m\u001b[0;34m,\u001b[0m\u001b[0;34m'color'\u001b[0m\u001b[0;34m,\u001b[0m\u001b[0;34m'clarity'\u001b[0m\u001b[0;34m,\u001b[0m\u001b[0;34m'depth'\u001b[0m\u001b[0;34m,\u001b[0m\u001b[0;34m'table'\u001b[0m\u001b[0;34m]\u001b[0m\u001b[0;34m]\u001b[0m\u001b[0;34m\u001b[0m\u001b[0;34m\u001b[0m\u001b[0m\n",
      "\u001b[0;31mNameError\u001b[0m: name 'train' is not defined"
     ]
    }
   ],
   "source": [
    "y_train= train.price\n",
    "X_train=train_noidxyz\n",
    "X_test=test[['carat','cut','color','clarity','depth','table']]"
   ]
  },
  {
   "cell_type": "code",
   "execution_count": 132,
   "id": "390b3783",
   "metadata": {},
   "outputs": [
    {
     "name": "stdout",
     "output_type": "stream",
     "text": [
      "RMSE of 36 546.8148751719102\n",
      "RMSE of 40 547.8938707852477\n"
     ]
    }
   ],
   "source": [
    "n=[36,40] # I used this list to try different variables and check their RMSE\n",
    "for i in n:\n",
    "    model= RandomForestRegressor(max_depth= i, min_samples_split= 10, n_estimators= 350)\n",
    "    model=model.fit(X_train,y_train)\n",
    "    y_pred = model.predict(X_test)\n",
    "    print(f\"RMSE of {i} {np.sqrt(metrics.mean_squared_error(y_test, y_pred))}\")"
   ]
  },
  {
   "cell_type": "markdown",
   "id": "aadf4a25",
   "metadata": {},
   "source": [
    "# I create a new column called 'price' in the test dataset that contains the price predictions from the chosen model"
   ]
  },
  {
   "cell_type": "code",
   "execution_count": 105,
   "id": "444f14ae",
   "metadata": {},
   "outputs": [],
   "source": [
    "test['price'] = y_pred"
   ]
  },
  {
   "cell_type": "markdown",
   "id": "4262236f",
   "metadata": {},
   "source": [
    "# I create the final dataset choosing only the columns that include the price predictions and the id"
   ]
  },
  {
   "cell_type": "code",
   "execution_count": 106,
   "id": "481da1c4",
   "metadata": {},
   "outputs": [],
   "source": [
    "finpred = test[['id','price']]"
   ]
  },
  {
   "cell_type": "code",
   "execution_count": 107,
   "id": "5c48d1aa",
   "metadata": {},
   "outputs": [
    {
     "data": {
      "text/html": [
       "<div>\n",
       "<style scoped>\n",
       "    .dataframe tbody tr th:only-of-type {\n",
       "        vertical-align: middle;\n",
       "    }\n",
       "\n",
       "    .dataframe tbody tr th {\n",
       "        vertical-align: top;\n",
       "    }\n",
       "\n",
       "    .dataframe thead th {\n",
       "        text-align: right;\n",
       "    }\n",
       "</style>\n",
       "<table border=\"1\" class=\"dataframe\">\n",
       "  <thead>\n",
       "    <tr style=\"text-align: right;\">\n",
       "      <th></th>\n",
       "      <th>id</th>\n",
       "      <th>price</th>\n",
       "    </tr>\n",
       "  </thead>\n",
       "  <tbody>\n",
       "    <tr>\n",
       "      <th>0</th>\n",
       "      <td>0</td>\n",
       "      <td>3151.926789</td>\n",
       "    </tr>\n",
       "    <tr>\n",
       "      <th>1</th>\n",
       "      <td>1</td>\n",
       "      <td>3094.558637</td>\n",
       "    </tr>\n",
       "    <tr>\n",
       "      <th>2</th>\n",
       "      <td>2</td>\n",
       "      <td>3526.925562</td>\n",
       "    </tr>\n",
       "    <tr>\n",
       "      <th>3</th>\n",
       "      <td>3</td>\n",
       "      <td>3174.228325</td>\n",
       "    </tr>\n",
       "    <tr>\n",
       "      <th>4</th>\n",
       "      <td>4</td>\n",
       "      <td>5290.883317</td>\n",
       "    </tr>\n",
       "  </tbody>\n",
       "</table>\n",
       "</div>"
      ],
      "text/plain": [
       "   id        price\n",
       "0   0  3151.926789\n",
       "1   1  3094.558637\n",
       "2   2  3526.925562\n",
       "3   3  3174.228325\n",
       "4   4  5290.883317"
      ]
     },
     "execution_count": 107,
     "metadata": {},
     "output_type": "execute_result"
    }
   ],
   "source": [
    "finpred.head()"
   ]
  },
  {
   "cell_type": "markdown",
   "id": "ed047991",
   "metadata": {},
   "source": [
    "# I save the prediction in .csv format in the 'predictions' folder"
   ]
  },
  {
   "cell_type": "code",
   "execution_count": 109,
   "id": "fc87e25e",
   "metadata": {},
   "outputs": [],
   "source": [
    "if not os.path.exists(\"../predictions\"):\n",
    "    os.makedirs(\"../predictions\")\n",
    "finpred.to_csv(\"../predictions/predetr1710280.csv\", index=False, header=True)"
   ]
  },
  {
   "cell_type": "code",
   "execution_count": null,
   "id": "111883b1",
   "metadata": {},
   "outputs": [],
   "source": []
  },
  {
   "cell_type": "code",
   "execution_count": null,
   "id": "0dd8b6d4",
   "metadata": {},
   "outputs": [],
   "source": []
  }
 ],
 "metadata": {
  "kernelspec": {
   "display_name": "iron",
   "language": "python",
   "name": "iron"
  },
  "language_info": {
   "codemirror_mode": {
    "name": "ipython",
    "version": 3
   },
   "file_extension": ".py",
   "mimetype": "text/x-python",
   "name": "python",
   "nbconvert_exporter": "python",
   "pygments_lexer": "ipython3",
   "version": "3.9.7"
  },
  "toc": {
   "base_numbering": 1,
   "nav_menu": {},
   "number_sections": true,
   "sideBar": true,
   "skip_h1_title": false,
   "title_cell": "Table of Contents",
   "title_sidebar": "Contents",
   "toc_cell": false,
   "toc_position": {},
   "toc_section_display": true,
   "toc_window_display": false
  }
 },
 "nbformat": 4,
 "nbformat_minor": 5
}
